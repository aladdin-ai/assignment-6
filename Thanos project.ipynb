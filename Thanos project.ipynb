{
 "cells": [
  {
   "cell_type": "code",
   "execution_count": 1,
   "metadata": {},
   "outputs": [],
   "source": [
    "import os\n",
    "from random import choice"
   ]
  },
  {
   "cell_type": "code",
   "execution_count": 4,
   "metadata": {},
   "outputs": [
    {
     "data": {
      "text/plain": [
       "['002.jpg',\n",
       " '10.jpg',\n",
       " '100.jpg',\n",
       " '11.jpg',\n",
       " '14.jpg',\n",
       " '2.jpg',\n",
       " '212.jpg',\n",
       " '22.jpg',\n",
       " '23.jpg',\n",
       " '25.jpg',\n",
       " '263.jpg',\n",
       " '3.jpg',\n",
       " '33.jpg',\n",
       " '3326.jpg',\n",
       " '333.jpg',\n",
       " '4.jpg',\n",
       " '44.jpg',\n",
       " '45.jpg',\n",
       " '5.jpg',\n",
       " '50.jpg',\n",
       " '55.jpg',\n",
       " '565.jpg',\n",
       " '60.jpg',\n",
       " '600.jpg',\n",
       " '604.jpg',\n",
       " '605.jpg',\n",
       " '606.jpg',\n",
       " '609.jpg',\n",
       " '66.jpg',\n",
       " '68.jpg',\n",
       " '70.jpg',\n",
       " '77.jpg',\n",
       " '8.jpg',\n",
       " '80.jpg',\n",
       " '848.jpg',\n",
       " '86.jpg',\n",
       " '88.jpg',\n",
       " '89.jpg',\n",
       " '898.jpg',\n",
       " '8989.jpg',\n",
       " '9.jpg',\n",
       " '90.jpg',\n",
       " '91.jpg',\n",
       " '96.jpg',\n",
       " '98.jpg',\n",
       " '989.jpg']"
      ]
     },
     "execution_count": 4,
     "metadata": {},
     "output_type": "execute_result"
    }
   ],
   "source": [
    "def universe_people(path):\n",
    "    return os.listdir(path)\n",
    "people = universe_people(\"ph\")\n",
    "people"
   ]
  },
  {
   "cell_type": "code",
   "execution_count": 5,
   "metadata": {},
   "outputs": [],
   "source": [
    "def thanos(people):\n",
    "    for i in people:\n",
    "        rename_list = ['0','1','2','3','4','5','6','7','8','9','a','b','c','d','e','f','g','h','i','j','k','l','m','n','o','p','q','r','s','t','u','v','w','x','y','z']\n",
    "        J = 1\n",
    "        name = []\n",
    "        while J <= 5:\n",
    "            name.append(choice(rename_list))\n",
    "            J+=1\n",
    "        name = \"\".join(name)\n",
    "        os.rename(name,f\"ph/{i}\")"
   ]
  },
  {
   "cell_type": "code",
   "execution_count": null,
   "metadata": {},
   "outputs": [],
   "source": []
  }
 ],
 "metadata": {
  "kernelspec": {
   "display_name": "Python 3",
   "language": "python",
   "name": "python3"
  },
  "language_info": {
   "codemirror_mode": {
    "name": "ipython",
    "version": 3
   },
   "file_extension": ".py",
   "mimetype": "text/x-python",
   "name": "python",
   "nbconvert_exporter": "python",
   "pygments_lexer": "ipython3",
   "version": "3.8.5"
  }
 },
 "nbformat": 4,
 "nbformat_minor": 4
}
